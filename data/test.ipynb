{
 "cells": [
  {
   "cell_type": "code",
   "execution_count": 1,
   "id": "6e0609ee",
   "metadata": {},
   "outputs": [],
   "source": [
    "%matplotlib inline\n",
    "import pandas as pd\n",
    "import networkx as nx\n",
    "import matplotlib.pyplot as plt\n",
    "import numpy as np\n",
    "import matplotlib.cm as cm\n",
    "import community as community_louvain\n",
    "import random\n",
    "import time\n",
    "import seaborn as sns\n",
    "random.seed(1234)\n",
    "from bokeh.io import output_notebook, show, save\n",
    "output_notebook()\n",
    "\n",
    "df_nodes = pd.read_csv('nodes.csv', sep=',')\n",
    "df_edges = pd.read_csv('edges.csv', sep=',')\n",
    "\n"
   ]
  },
  {
   "cell_type": "code",
   "execution_count": null,
   "id": "79024106",
   "metadata": {},
   "outputs": [],
   "source": [
    "pos = nx.spring_layout(graph, seed=4321, k=3)\n",
    "\n",
    "fig = plt.figure(figsize=(20, 10))\n",
    "\n",
    "nx.draw_networkx_nodes(graph, pos)\n",
    "nx.draw_networkx_edges(graph, pos, alpha=0.1)\n",
    "nx.draw_networkx_labels(graph, pos)\n",
    "plt.show()\n"
   ]
  },
  {
   "cell_type": "code",
   "execution_count": 2,
   "id": "838d791c",
   "metadata": {},
   "outputs": [
    {
     "data": {
      "text/plain": [
       "EdgeView([(111313, '113269'), (107456, '119360'), (108376, '113269'), (108276, '113269'), (108276, '109703'), (116031, '113269'), (115604, '119360'), (110358, '106862'), (110358, '117036'), (110358, '119360'), (110358, '106652'), (107141, '119360'), (107141, '113269'), (106524, '119360'), (111105, '116593'), (109992, '113269'), (107454, '119360'), (132934, '119360')])"
      ]
     },
     "execution_count": 2,
     "metadata": {},
     "output_type": "execute_result"
    }
   ],
   "source": [
    "graph.edges()"
   ]
  },
  {
   "cell_type": "code",
   "execution_count": 6,
   "id": "ed9f4ba7",
   "metadata": {},
   "outputs": [
    {
     "data": {
      "text/plain": [
       "{(111313, '113269'): 'AGM7|GRB1|IMD36|p85|p85-ALPHA',\n",
       " (107456, '119360'): 'MCPH12|PLSTIRE',\n",
       " (108376, '113269'): 'CD340|HER-2|HER-2/neu|HER2|MLN 19|NEU|NGL|TKR1',\n",
       " (108276, '113269'): 'ERBB|ERBB1|HER1|NISBD2|PIG61|mENA',\n",
       " (108276, '109703'): 'ERBB|ERBB1|HER1|NISBD2|PIG61|mENA',\n",
       " (116031, '113269'): 'FRS2A|FRS2alpha|SNT|SNT-1|SNT1',\n",
       " (115604, '119360'): 'Hs.54452|IK1|IKAROS|LYF1|LyF-1|PPP1R92|PRO0758|ZNFN1A1',\n",
       " (110358, '106862'): 'ACTFS|HDMX|hdm2',\n",
       " (110358, '117036'): 'ACTFS|HDMX|hdm2',\n",
       " (110358, '119360'): 'ACTFS|HDMX|hdm2',\n",
       " (110358, '106652'): 'ACTFS|HDMX|hdm2',\n",
       " (107141, '119360'): 'B-RAF1|BRAF1|NS7|RAFB1',\n",
       " (107141, '113269'): 'B-RAF1|BRAF1|NS7|RAFB1',\n",
       " (106524, '119360'): 'A2MD|CPAMD5|FWP007|S863-7',\n",
       " (111105, '116593'): 'AR-JP|LPRS2|PDJ|PRKN',\n",
       " (109992, '113269'): 'CD309|FLK1|VEGFR|VEGFR2',\n",
       " (107454, '119360'): 'CMM3|PSK-J3',\n",
       " (132934, '119360'): 'NHE4'}"
      ]
     },
     "execution_count": 6,
     "metadata": {},
     "output_type": "execute_result"
    }
   ],
   "source": [
    "\n",
    "nx.get_edge_attributes(graph, 'Synonyms')"
   ]
  },
  {
   "cell_type": "code",
   "execution_count": null,
   "id": "698f10f0",
   "metadata": {},
   "outputs": [],
   "source": [
    "pos = nx.spring_layout(graph, seed=4321, k=3)\n",
    "\n",
    "fig = plt.figure(figsize=(20, 10))\n",
    "\n",
    "nx.draw_networkx_nodes(graph, pos)\n",
    "nx.draw_networkx_edges(graph, pos, alpha=0.1)\n",
    "nx.draw_networkx_labels(graph, pos)\n",
    "plt.show()\n"
   ]
  },
  {
   "cell_type": "code",
   "execution_count": null,
   "id": "7ea999d2",
   "metadata": {},
   "outputs": [],
   "source": [
    "\n"
   ]
  },
  {
   "cell_type": "code",
   "execution_count": null,
   "id": "a42a0e2d",
   "metadata": {},
   "outputs": [],
   "source": [
    "pd.Series(df_nodes[], index=).to_dict()"
   ]
  },
  {
   "cell_type": "code",
   "execution_count": null,
   "id": "963db96c",
   "metadata": {},
   "outputs": [],
   "source": [
    "df_nodes['ORGANISM ID']"
   ]
  },
  {
   "cell_type": "code",
   "execution_count": null,
   "id": "f1fbe2cc",
   "metadata": {},
   "outputs": [],
   "source": []
  }
 ],
 "metadata": {
  "kernelspec": {
   "display_name": "Python 3 (ipykernel)",
   "language": "python",
   "name": "python3"
  },
  "language_info": {
   "codemirror_mode": {
    "name": "ipython",
    "version": 3
   },
   "file_extension": ".py",
   "mimetype": "text/x-python",
   "name": "python",
   "nbconvert_exporter": "python",
   "pygments_lexer": "ipython3",
   "version": "3.8.5"
  }
 },
 "nbformat": 4,
 "nbformat_minor": 5
}
